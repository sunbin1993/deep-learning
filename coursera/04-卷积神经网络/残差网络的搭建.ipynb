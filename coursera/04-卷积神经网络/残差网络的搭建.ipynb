{
 "cells": [
  {
   "cell_type": "code",
   "execution_count": 3,
   "metadata": {},
   "outputs": [],
   "source": [
    "import numpy as np \n",
    "from keras import layers \n",
    "from keras.layers import Input, Add, Dense, Activation, ZeroPadding2D, BatchNormalization, Flatten, Conv2D \n",
    "from keras.layers import AveragePooling2D, MaxPooling2D, GlobalMaxPooling2D \n",
    "from keras.models import Model ,load_model\n",
    "from keras.preprocessing import image \n",
    "from keras.utils import layer_utils \n",
    "from keras.utils.data_utils import get_file \n",
    "from keras.applications.imagenet_utils import preprocess_input \n",
    "import pydot \n",
    "from IPython.display import SVG \n",
    "from keras.utils.vis_utils import model_to_dot \n",
    "from keras.utils import plot_model \n",
    "from keras.initializers import glorot_uniform\n",
    "import scipy.misc\n",
    "import kt_utils \n",
    "import keras.backend as K \n",
    "K.set_image_data_format('channels_last') \n",
    "K.set_learning_phase(1)\n",
    "import resnets_utils "
   ]
  },
  {
   "cell_type": "code",
   "execution_count": null,
   "metadata": {},
   "outputs": [],
   "source": []
  }
 ],
 "metadata": {
  "kernelspec": {
   "display_name": "Python 3",
   "language": "python",
   "name": "python3"
  },
  "language_info": {
   "codemirror_mode": {
    "name": "ipython",
    "version": 3
   },
   "file_extension": ".py",
   "mimetype": "text/x-python",
   "name": "python",
   "nbconvert_exporter": "python",
   "pygments_lexer": "ipython3",
   "version": "3.6.6"
  }
 },
 "nbformat": 4,
 "nbformat_minor": 2
}
