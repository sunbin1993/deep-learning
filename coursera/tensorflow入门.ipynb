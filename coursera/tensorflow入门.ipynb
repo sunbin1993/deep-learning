{
 "cells": [
  {
   "cell_type": "code",
   "execution_count": 1,
   "metadata": {},
   "outputs": [],
   "source": [
    "import numpy as np\n",
    "import tensorflow as tf #导入tensorflow"
   ]
  },
  {
   "cell_type": "code",
   "execution_count": 6,
   "metadata": {},
   "outputs": [
    {
     "name": "stdout",
     "output_type": "stream",
     "text": [
      "0.0\n"
     ]
    }
   ],
   "source": [
    "w = tf.Variable(0,dtype=tf.float32) #定义参数\n",
    "#cost = tf.add(tf.add(w**2,tf.multiply(-10.,w)),25) #定义损失函数\n",
    "cost = w**2-10*w+25\n",
    "train = tf.train.GradientDescentOptimizer(0.01).minimize(cost) #用0.01的损失率 目标是最小化损失\n",
    "#下面几行是惯用表达式\n",
    "init = tf.global_variables_initializer()\n",
    "session = tf.Session() #开启一个TensorFlow的session\n",
    "session.run(init) #初始化全局变量\n",
    "print(session.run(w)) #session.run(w) TensorFlow评估一个变量"
   ]
  },
  {
   "cell_type": "code",
   "execution_count": 4,
   "metadata": {},
   "outputs": [
    {
     "name": "stdout",
     "output_type": "stream",
     "text": [
      "0.099999994\n"
     ]
    }
   ],
   "source": [
    "session.run(train) #运行一步梯度下降法\n",
    "print(session.run(w)) #评估一下w的值"
   ]
  },
  {
   "cell_type": "code",
   "execution_count": 5,
   "metadata": {},
   "outputs": [
    {
     "name": "stdout",
     "output_type": "stream",
     "text": [
      "4.9999886\n"
     ]
    }
   ],
   "source": [
    "#运行梯度下降1000次迭代\n",
    "for i in range(1000):\n",
    "    session.run(train)\n",
    "print(session.run(w))"
   ]
  },
  {
   "cell_type": "markdown",
   "metadata": {},
   "source": [
    "### 最小化训练集函数"
   ]
  },
  {
   "cell_type": "code",
   "execution_count": 10,
   "metadata": {},
   "outputs": [
    {
     "name": "stdout",
     "output_type": "stream",
     "text": [
      "0.0\n"
     ]
    }
   ],
   "source": [
    "#coefficients = np.array([[1.],[-1.],[25.]]) #要接入的数据\n",
    "coefficients = np.array([[1.],[-20.],[100.]])\n",
    "w = tf.Variable(0,dtype=tf.float32) #定义参数\n",
    "x = tf.placeholder(tf.float32,[3,1]) #placeholder告诉TensorFlow 稍后将会为x提供数值\n",
    "cost = x[0][0]*w**2 +x[1][0]*w+x[2][0]\n",
    "train = tf.train.GradientDescentOptimizer(0.01).minimize(cost) #用0.01的损失率 目标是最小化损失\n",
    "#下面几行是惯用表达式\n",
    "init = tf.global_variables_initializer()\n",
    "session = tf.Session() #开启一个TensorFlow的session\n",
    "session.run(init) #初始化全局变量\n",
    "print(session.run(w)) #session.run(w) TensorFlow评估一个变量\n"
   ]
  },
  {
   "cell_type": "code",
   "execution_count": 11,
   "metadata": {},
   "outputs": [
    {
     "name": "stdout",
     "output_type": "stream",
     "text": [
      "0.19999999\n"
     ]
    }
   ],
   "source": [
    "session.run(train,feed_dict = {x:coefficients})\n",
    "print(session.run(w))"
   ]
  },
  {
   "cell_type": "code",
   "execution_count": 12,
   "metadata": {},
   "outputs": [
    {
     "name": "stdout",
     "output_type": "stream",
     "text": [
      "9.999977\n"
     ]
    }
   ],
   "source": [
    "for i in range(1000):\n",
    "    session.run(train,feed_dict = {x:coefficients})\n",
    "print(session.run(w))"
   ]
  },
  {
   "cell_type": "code",
   "execution_count": null,
   "metadata": {},
   "outputs": [],
   "source": []
  },
  {
   "cell_type": "code",
   "execution_count": null,
   "metadata": {},
   "outputs": [],
   "source": []
  },
  {
   "cell_type": "code",
   "execution_count": null,
   "metadata": {},
   "outputs": [],
   "source": []
  },
  {
   "cell_type": "code",
   "execution_count": null,
   "metadata": {},
   "outputs": [],
   "source": []
  },
  {
   "cell_type": "code",
   "execution_count": null,
   "metadata": {},
   "outputs": [],
   "source": []
  },
  {
   "cell_type": "code",
   "execution_count": null,
   "metadata": {},
   "outputs": [],
   "source": []
  },
  {
   "cell_type": "code",
   "execution_count": null,
   "metadata": {},
   "outputs": [],
   "source": []
  }
 ],
 "metadata": {
  "kernelspec": {
   "display_name": "Python 3",
   "language": "python",
   "name": "python3"
  },
  "language_info": {
   "codemirror_mode": {
    "name": "ipython",
    "version": 3
   },
   "file_extension": ".py",
   "mimetype": "text/x-python",
   "name": "python",
   "nbconvert_exporter": "python",
   "pygments_lexer": "ipython3",
   "version": "3.6.6"
  }
 },
 "nbformat": 4,
 "nbformat_minor": 2
}
