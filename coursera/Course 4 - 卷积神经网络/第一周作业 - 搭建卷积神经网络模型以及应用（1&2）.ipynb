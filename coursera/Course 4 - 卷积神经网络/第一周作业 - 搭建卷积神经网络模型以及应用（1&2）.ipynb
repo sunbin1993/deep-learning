{
 "cells": [
  {
   "cell_type": "code",
   "execution_count": 1,
   "metadata": {},
   "outputs": [
    {
     "name": "stderr",
     "output_type": "stream",
     "text": [
      "d:\\ProgramData\\Anaconda3\\lib\\site-packages\\h5py\\__init__.py:36: FutureWarning: Conversion of the second argument of issubdtype from `float` to `np.floating` is deprecated. In future, it will be treated as `np.float64 == np.dtype(float).type`.\n",
      "  from ._conv import register_converters as _register_converters\n"
     ]
    }
   ],
   "source": [
    "import numpy as np \n",
    "import h5py \n",
    "import matplotlib.pyplot as plt \n",
    "%matplotlib inline \n",
    "plt.rcParams['figure.figsize'] = (5.0, 4.0) \n",
    "plt.rcParams['image.interpolation'] = 'nearest' \n",
    "plt.rcParams['image.cmap'] = 'gray' #ipython很好用，但是如果在ipython里已经import过的模块修改后需要重新reload就需要这样 \n",
    "#在执行用户代码前，重新装入软件的扩展和模块。 \n",
    "%load_ext autoreload \n",
    "#autoreload 2：装入所有 %aimport 不包含的模块。 \n",
    "%autoreload 2 np.random.seed(1) #指定随机种子\n"
   ]
  },
  {
   "cell_type": "code",
   "execution_count": 10,
   "metadata": {
    "scrolled": true
   },
   "outputs": [
    {
     "name": "stdout",
     "output_type": "stream",
     "text": [
      "constant:  \n",
      "[[[0 0 0 0 0 0 0 0 0 0]\n",
      "  [0 0 1 1 2 2 3 4 0 0]\n",
      "  [0 0 1 1 2 2 3 4 0 0]\n",
      "  [0 0 1 1 2 2 3 4 0 0]\n",
      "  [0 0 0 0 0 0 0 0 0 0]]\n",
      "\n",
      " [[0 0 0 0 0 0 0 0 0 0]\n",
      "  [0 0 0 1 2 3 4 5 0 0]\n",
      "  [0 0 0 1 2 3 4 5 0 0]\n",
      "  [0 0 0 1 2 3 4 5 0 0]\n",
      "  [0 0 0 0 0 0 0 0 0 0]]\n",
      "\n",
      " [[0 0 0 0 0 0 0 0 0 0]\n",
      "  [0 0 1 1 2 2 3 4 0 0]\n",
      "  [0 0 1 1 2 2 3 4 0 0]\n",
      "  [0 0 1 1 2 2 3 4 0 0]\n",
      "  [0 0 0 0 0 0 0 0 0 0]]]\n"
     ]
    }
   ],
   "source": [
    "arr3D = np.array([[[1, 1, 2, 2, 3, 4], \n",
    "                   [1, 1, 2, 2, 3, 4], \n",
    "                   [1, 1, 2, 2, 3, 4]], \n",
    "                  \n",
    "                  [[0, 1, 2, 3, 4, 5], \n",
    "                   [0, 1, 2, 3, 4, 5], \n",
    "                   [0, 1, 2, 3, 4, 5]],\n",
    "                  \n",
    "                  [[1, 1, 2, 2, 3, 4], \n",
    "                   [1, 1, 2, 2, 3, 4], \n",
    "                   [1, 1, 2, 2, 3, 4]]\n",
    "                 ]) \n",
    "print( 'constant:  \\n' + str(np.pad(arr3D, ((0, 0), (1, 1), (2, 2)), 'constant',constant_values = (0,0))))\n"
   ]
  },
  {
   "cell_type": "code",
   "execution_count": 11,
   "metadata": {},
   "outputs": [],
   "source": [
    "# 默认以0填充x图像边界\n",
    "def padding(x,pad,value = 0):\n",
    "    \n",
    "    x_padded = np.pad(x,\n",
    "                      ((0,0),\n",
    "                     (1,1),\n",
    "                     (1,1),\n",
    "                     (0,0)),\n",
    "                      'constant',\n",
    "                      constant_values = (value,value))\n",
    "    \n",
    "    return x_padded"
   ]
  },
  {
   "cell_type": "code",
   "execution_count": 16,
   "metadata": {},
   "outputs": [
    {
     "name": "stdout",
     "output_type": "stream",
     "text": [
      "x.shape = (4, 3, 3, 2)\n",
      "x_paded.shape = (4, 5, 5, 2)\n",
      "x[1, 1] = [[ 0.90085595 -0.68372786]\n",
      " [-0.12289023 -0.93576943]\n",
      " [-0.26788808  0.53035547]]\n",
      "x_paded[1, 1] = [[ 0.          0.        ]\n",
      " [ 0.04221375  0.58281521]\n",
      " [-1.10061918  1.14472371]\n",
      " [ 0.90159072  0.50249434]\n",
      " [ 0.          0.        ]]\n"
     ]
    },
    {
     "data": {
      "text/plain": [
       "<matplotlib.image.AxesImage at 0x184e1835b38>"
      ]
     },
     "execution_count": 16,
     "metadata": {},
     "output_type": "execute_result"
    },
    {
     "data": {
      "image/png": "[encoded data removed]",
      "text/plain": [
       "<Figure size 432x288 with 2 Axes>"
      ]
     },
     "metadata": {},
     "output_type": "display_data"
    }
   ],
   "source": [
    "# 测试padding function\n",
    "np.random.seed(1) \n",
    "x = np.random.randn(4,3,3,2) \n",
    "x_paded = padding(x,2) \n",
    "#查看信息 \n",
    "print (\"x.shape =\", x.shape) \n",
    "print (\"x_paded.shape =\", x_paded.shape) \n",
    "print (\"x[1, 1] =\", x[1, 1]) \n",
    "print (\"x_paded[1, 1] =\", x_paded[1, 1]) \n",
    "#绘制图 \n",
    "fig , axarr = plt.subplots(1,2)\n",
    "#一行两列 \n",
    "axarr[0].set_title('x') \n",
    "axarr[0].imshow(x[0,:,:,0]) \n",
    "axarr[1].set_title('x_paded') \n",
    "axarr[1].imshow(x_paded[0,:,:,0])"
   ]
  },
  {
   "cell_type": "code",
   "execution_count": 21,
   "metadata": {},
   "outputs": [],
   "source": [
    "def conv_single_step(a_slice_prev,W,b):\n",
    "    s = np.multiply(a_slice_prev,W) + b\n",
    "    z = np.sum(s)\n",
    "    return z"
   ]
  },
  {
   "cell_type": "code",
   "execution_count": 22,
   "metadata": {},
   "outputs": [
    {
     "name": "stdout",
     "output_type": "stream",
     "text": [
      "z -23.16021220252078\n"
     ]
    }
   ],
   "source": [
    "# 测试single_step_conv\n",
    "np.random.seed(1) \n",
    "#这里切片大小和过滤器大小相同 \n",
    "a_slice_prev = np.random.randn(4,4,3) \n",
    "W = np.random.randn(4,4,3) \n",
    "b = np.random.randn(1,1,1) \n",
    "Z = conv_single_step(a_slice_prev,W,b)\n",
    "print('z= %s' %(Z))"
   ]
  },
  {
   "cell_type": "code",
   "execution_count": null,
   "metadata": {},
   "outputs": [],
   "source": []
  }
 ],
 "metadata": {
  "kernelspec": {
   "display_name": "Python 3",
   "language": "python",
   "name": "python3"
  },
  "language_info": {
   "codemirror_mode": {
    "name": "ipython",
    "version": 3
   },
   "file_extension": ".py",
   "mimetype": "text/x-python",
   "name": "python",
   "nbconvert_exporter": "python",
   "pygments_lexer": "ipython3",
   "version": "3.6.5"
  }
 },
 "nbformat": 4,
 "nbformat_minor": 2
}
